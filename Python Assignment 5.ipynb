{
 "cells": [
  {
   "cell_type": "markdown",
   "id": "3a4c0d40",
   "metadata": {},
   "source": [
    "1) What does an empty dictionary's code look like?"
   ]
  },
  {
   "cell_type": "markdown",
   "id": "22a7bdbd",
   "metadata": {},
   "source": [
    "Ans: d={},d=dict()"
   ]
  },
  {
   "cell_type": "markdown",
   "id": "ee3b8b15",
   "metadata": {},
   "source": [
    "2)What is the value of a dictionary value with the key 'foo' and the value 42?"
   ]
  },
  {
   "cell_type": "markdown",
   "id": "b1893d71",
   "metadata": {},
   "source": [
    "Ans: d={'foo':42}"
   ]
  },
  {
   "cell_type": "markdown",
   "id": "16043ec1",
   "metadata": {},
   "source": [
    "3)What is the most significant distinction between a dictionary and a list?"
   ]
  },
  {
   "cell_type": "markdown",
   "id": "b52c0bd1",
   "metadata": {},
   "source": [
    "Ans: Dictionaries are represented by {}  and  list are represented by [] by enclose"
   ]
  },
  {
   "cell_type": "markdown",
   "id": "2696ff89",
   "metadata": {},
   "source": [
    "4)What happens if you try to access spam ['foo'] if spam is {'bar': 100}?"
   ]
  },
  {
   "cell_type": "markdown",
   "id": "bb5c027a",
   "metadata": {},
   "source": [
    " Ans: KeyError: 'foo'"
   ]
  },
  {
   "cell_type": "markdown",
   "id": "faedae99",
   "metadata": {},
   "source": [
    "5)If a dictionary is stored in spam, what is the difference between the expressions 'cat' in spam and 'cat' in spam.keys()?"
   ]
  },
  {
   "cell_type": "markdown",
   "id": "78dabbb2",
   "metadata": {},
   "source": [
    "Ans: No difference between them."
   ]
  },
  {
   "cell_type": "markdown",
   "id": "55dc240a",
   "metadata": {},
   "source": [
    "6)If a dictionary is stored in spam, what is the difference between the expressions 'cat' in spam and 'cat' in spam.values()?"
   ]
  },
  {
   "cell_type": "markdown",
   "id": "8636dca1",
   "metadata": {},
   "source": [
    "Ans: While 'cat' in spam.values() checks whether there is a value 'cat' for one of the keys in spam."
   ]
  },
  {
   "cell_type": "markdown",
   "id": "14ff5eab",
   "metadata": {},
   "source": [
    "7)What is a shortcut for the following code?\n",
    "if 'color' not in spam:\n",
    "spam['color'] = 'black'\n"
   ]
  },
  {
   "cell_type": "markdown",
   "id": "0949ed1b",
   "metadata": {},
   "source": [
    "Ans:spam.setdefault('color','black')"
   ]
  },
  {
   "cell_type": "markdown",
   "id": "1ff35055",
   "metadata": {},
   "source": [
    "8)How do you \"pretty print\" dictionary values using which module and function?"
   ]
  },
  {
   "cell_type": "code",
   "execution_count": 7,
   "id": "ec6bfa67",
   "metadata": {},
   "outputs": [
    {
     "name": "stdout",
     "output_type": "stream",
     "text": [
      "{'serial_no': 65, 'name': 'harry', 'class_attended': [{'English', 'Science', 'Mathematics'}]}\n"
     ]
    }
   ],
   "source": [
    "test_dict = {\n",
    "    'serial_no': 65,\n",
    "    'name': 'harry',\n",
    "    'class_attended': [{ 'English', 'Mathematics', 'Science'}]}\n",
    "print(test_dict)"
   ]
  },
  {
   "cell_type": "code",
   "execution_count": null,
   "id": "3f8192e3",
   "metadata": {},
   "outputs": [],
   "source": []
  }
 ],
 "metadata": {
  "kernelspec": {
   "display_name": "Python 3 (ipykernel)",
   "language": "python",
   "name": "python3"
  },
  "language_info": {
   "codemirror_mode": {
    "name": "ipython",
    "version": 3
   },
   "file_extension": ".py",
   "mimetype": "text/x-python",
   "name": "python",
   "nbconvert_exporter": "python",
   "pygments_lexer": "ipython3",
   "version": "3.9.12"
  }
 },
 "nbformat": 4,
 "nbformat_minor": 5
}
