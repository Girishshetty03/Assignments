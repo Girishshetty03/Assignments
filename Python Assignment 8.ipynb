{
 "cells": [
  {
   "cell_type": "markdown",
   "id": "e22b2de2",
   "metadata": {},
   "source": [
    "1)Is the Python Standard Library included with PyInputPlus?"
   ]
  },
  {
   "cell_type": "markdown",
   "id": "fbd96996",
   "metadata": {},
   "source": [
    "Ans: No, PyInputPlus is not a part of Python Standard Library."
   ]
  },
  {
   "cell_type": "markdown",
   "id": "0f0f7d99",
   "metadata": {},
   "source": [
    "2)Why is PyInputPlus commonly imported with import pyinputplus as pypi?"
   ]
  },
  {
   "cell_type": "markdown",
   "id": "c348dfd3",
   "metadata": {},
   "source": [
    "Ans: shorter name when calling the module's functions."
   ]
  },
  {
   "cell_type": "markdown",
   "id": "134291f9",
   "metadata": {},
   "source": [
    "3)How do you distinguish between inputInt() and inputFloat()?"
   ]
  },
  {
   "cell_type": "markdown",
   "id": "d81be144",
   "metadata": {},
   "source": [
    "Ans: inputInt() function Accepts an integer value. inputFloat() function Accepts a floating-point numeric value."
   ]
  },
  {
   "cell_type": "markdown",
   "id": "d84104b5",
   "metadata": {},
   "source": [
    "4)Using PyInputPlus, how do you ensure that the user enters a whole number between 0 and 99?"
   ]
  },
  {
   "cell_type": "markdown",
   "id": "e6f6f3bf",
   "metadata": {},
   "source": [
    "Ans: PyInputPlus module provides a function called as inputInt() which only returns only integer values. inorder to restrict the input between 0 and 99, i'ii use parameters like min & max to ensure that user enters the values between the defined range only."
   ]
  },
  {
   "cell_type": "markdown",
   "id": "4099d969",
   "metadata": {},
   "source": [
    "5)What is transferred to the keyword arguments allowRegexes and blockRegexes?"
   ]
  },
  {
   "cell_type": "markdown",
   "id": "491d92ec",
   "metadata": {},
   "source": [
    "Ans: we can use allowRegexes and blockRegexes keyword arguments to take list of regular expression strings to determine what the pyinputplus function will reject or accept valid input."
   ]
  },
  {
   "cell_type": "markdown",
   "id": "2ed40a5f",
   "metadata": {},
   "source": [
    "6)If a blank input is entered three times, what does inputStr(limit=3) do?"
   ]
  },
  {
   "cell_type": "markdown",
   "id": "d5b2a8ab",
   "metadata": {},
   "source": [
    "Ans: It will throw RetryLimitException exception."
   ]
  },
  {
   "cell_type": "markdown",
   "id": "20cd657b",
   "metadata": {},
   "source": [
    "7)If blank input is entered three times, what does inputStr(limit=3, default='hello') do?"
   ]
  },
  {
   "cell_type": "markdown",
   "id": "2a881cb6",
   "metadata": {},
   "source": [
    "Ans: ince the default parameter is set to hello. after blank input is entered three times instead of raising RetryLimitException exception. the function will return hello as response to the calling function."
   ]
  },
  {
   "cell_type": "code",
   "execution_count": null,
   "id": "36694084",
   "metadata": {},
   "outputs": [],
   "source": []
  }
 ],
 "metadata": {
  "kernelspec": {
   "display_name": "Python 3 (ipykernel)",
   "language": "python",
   "name": "python3"
  },
  "language_info": {
   "codemirror_mode": {
    "name": "ipython",
    "version": 3
   },
   "file_extension": ".py",
   "mimetype": "text/x-python",
   "name": "python",
   "nbconvert_exporter": "python",
   "pygments_lexer": "ipython3",
   "version": "3.9.12"
  }
 },
 "nbformat": 4,
 "nbformat_minor": 5
}
