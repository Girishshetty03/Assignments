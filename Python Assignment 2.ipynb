{
 "cells": [
  {
   "cell_type": "markdown",
   "id": "95116d11",
   "metadata": {},
   "source": [
    "1)What are the two values of the Boolean data type? How do you write them?"
   ]
  },
  {
   "cell_type": "markdown",
   "id": "c956ac13",
   "metadata": {},
   "source": [
    "Ans:True and False are two values of the boolen data types. We have to use capital T and F and with the rest of the word in lowercase"
   ]
  },
  {
   "cell_type": "markdown",
   "id": "1eb2b412",
   "metadata": {},
   "source": [
    "2) What are the three different types of Boolean operators?"
   ]
  },
  {
   "cell_type": "markdown",
   "id": "04bbd43e",
   "metadata": {},
   "source": [
    "Ans: or, and, not"
   ]
  },
  {
   "cell_type": "markdown",
   "id": "c8ca55ea",
   "metadata": {},
   "source": [
    "3) Make a list of each Boolean operator's truth tables (i.e. every possible combination of Boolean values for the operator and what it evaluate )."
   ]
  },
  {
   "cell_type": "markdown",
   "id": "012db360",
   "metadata": {},
   "source": [
    "Ans:-\n",
    "1.\tTruth Table for and operaotor:\n",
    "•\tTrue and True is True\n",
    "•\tTrue and False is False\n",
    "•\tFalse and True is False\n",
    "•\tFalse and False is False\n",
    "\n",
    "2.\tTruth Table for or operaotor:\n",
    "•\tTrue and True is True\n",
    "•\tTrue and False is True\n",
    "•\tFalse and True is True\n",
    "•\tFalse and False is False\n",
    "\n",
    "3.\tTruth Table for not operaotor:\n",
    "•\tTrue not is False False not is True\n"
   ]
  },
  {
   "cell_type": "markdown",
   "id": "b4b8c975",
   "metadata": {},
   "source": [
    "4) What are the values of the following expressions?\n",
    "*(5 > 4) and (3 == 5)\n",
    "*not (5 > 4)\n",
    "*(5 > 4) or (3 == 5)\n",
    "*not ((5 > 4) or (3 == 5))\n",
    "*(True and True) and (True == False)\n",
    "*(not False) or (not True)\n"
   ]
  },
  {
   "cell_type": "code",
   "execution_count": 2,
   "id": "eb8a6c28",
   "metadata": {},
   "outputs": [
    {
     "name": "stdout",
     "output_type": "stream",
     "text": [
      "False\n",
      "False\n",
      "True\n",
      "False\n",
      "False\n",
      "True\n"
     ]
    }
   ],
   "source": [
    "#Ans:\n",
    "print((5>4)and(3==5)) \n",
    "print(not(5>4)) \n",
    "print((5>4)or(3==5)) \n",
    "print(not((5>4)or(3==5))) \n",
    "print((True and True)and(True==False)) \n",
    "print((not False)or(not True)) "
   ]
  },
  {
   "cell_type": "markdown",
   "id": "d9cd309f",
   "metadata": {},
   "source": [
    "5) What are the six comparison operators?"
   ]
  },
  {
   "cell_type": "markdown",
   "id": "a7405dca",
   "metadata": {},
   "source": [
    "The Six comparision operators available in python are:\n",
    "== , != , < , > , <= , =>"
   ]
  },
  {
   "cell_type": "markdown",
   "id": "31b9c3f7",
   "metadata": {},
   "source": [
    "6) How do you tell the difference between the equal to and assignment operators?Describe a condition and when you would use one."
   ]
  },
  {
   "cell_type": "code",
   "execution_count": 4,
   "id": "309ed9ee",
   "metadata": {},
   "outputs": [
    {
     "name": "stdout",
     "output_type": "stream",
     "text": [
      "True\n"
     ]
    }
   ],
   "source": [
    "#Ans:\n",
    "#== is the equal to operator that compares two values and evaluates to a Boolean\n",
    "#while = is that assignment operator that stores a value in a variable.\n",
    "a=100\n",
    "if a==100:\n",
    "    print(a==100)\n"
   ]
  },
  {
   "cell_type": "markdown",
   "id": "570d3a32",
   "metadata": {},
   "source": [
    "7) Identify the three blocks in this code:\n",
    "spam = 0\n",
    "if spam == 10:\n",
    "print('eggs')\n",
    "if spam > 5:\n",
    "print('bacon')\n",
    "else:\n",
    "print('ham')\n",
    "print('spam')\n",
    "print('spam')\n"
   ]
  },
  {
   "cell_type": "code",
   "execution_count": 5,
   "id": "50cd6c8b",
   "metadata": {},
   "outputs": [
    {
     "name": "stdout",
     "output_type": "stream",
     "text": [
      "ham\n",
      "spam\n",
      "spam\n"
     ]
    }
   ],
   "source": [
    "#Ans:\n",
    "spam = 0  \n",
    "if spam == 10:  \n",
    "    print('eggs')  \n",
    "if spam > 5:  \n",
    "    print('bacon')  \n",
    "else:  \n",
    "    print('ham')  \n",
    "print('spam')  \n",
    "print('spam')"
   ]
  },
  {
   "cell_type": "markdown",
   "id": "b77dacee",
   "metadata": {},
   "source": [
    "8) Write code that prints Hello if 1 is stored in spam, prints Howdy if 2 is stored in spam, and prints Greetings! if anything else is stored in spam."
   ]
  },
  {
   "cell_type": "code",
   "execution_count": 13,
   "id": "ce0afb40",
   "metadata": {},
   "outputs": [
    {
     "name": "stdout",
     "output_type": "stream",
     "text": [
      "Hello\n",
      "Howdy\n",
      "Greetings\n"
     ]
    }
   ],
   "source": [
    "def code(spam):\n",
    "    if spam==1:\n",
    "        print('Hello')\n",
    "    elif spam==2:\n",
    "        print('Howdy')\n",
    "    else:\n",
    "        print('Greetings')\n",
    "code(1) \n",
    "code(2)\n",
    "code(3)"
   ]
  },
  {
   "cell_type": "markdown",
   "id": "d46db4bf",
   "metadata": {},
   "source": [
    "9)If your programme is stuck in an endless loop, what keys you’ll press?"
   ]
  },
  {
   "cell_type": "markdown",
   "id": "e4646280",
   "metadata": {},
   "source": [
    "Ans:Ctrl-c"
   ]
  },
  {
   "cell_type": "markdown",
   "id": "09528c64",
   "metadata": {},
   "source": [
    "10) How can you tell the difference between break and continue?"
   ]
  },
  {
   "cell_type": "markdown",
   "id": "a40e08b2",
   "metadata": {},
   "source": [
    "Ans: \n",
    " break is used to stop the execution of the loop at a specific condition.\n",
    " continue is used to skip a particular iteration of the loop.\n"
   ]
  },
  {
   "cell_type": "markdown",
   "id": "bc894610",
   "metadata": {},
   "source": [
    "11) In a for loop, what is the difference between range(10), range(0, 10), and range(0, 10, 1)?"
   ]
  },
  {
   "cell_type": "markdown",
   "id": "b654e02f",
   "metadata": {},
   "source": [
    "The range(10) call range from 0 to 9 (but not include 10).\n",
    "The range (0,10) explicitly tells the loop to start at 0.\n",
    "The range(0,10,1) explicitly tells the loop to increase the variable by 1 on each iteration."
   ]
  },
  {
   "cell_type": "markdown",
   "id": "42dc6ac9",
   "metadata": {},
   "source": [
    "12) Write a short program that prints the numbers 1 to 10 using a for loop. Then write an equivalent program that prints the numbers 1 to 10 using a while loop."
   ]
  },
  {
   "cell_type": "code",
   "execution_count": 11,
   "id": "f5f51a5e",
   "metadata": {},
   "outputs": [
    {
     "name": "stdout",
     "output_type": "stream",
     "text": [
      "1 2 3 4 5 6 7 8 9 10 \n",
      "\n",
      "1 2 3 4 5 6 7 8 9 10 "
     ]
    }
   ],
   "source": [
    "#Ans:\n",
    "for i in range(1 , 11):\n",
    "    print(i,end=\" \")\n",
    "print('\\n')\n",
    "\n",
    "i=1    \n",
    "while i<=10:\n",
    "    print(i,end=\" \")\n",
    "    i+=1"
   ]
  },
  {
   "cell_type": "markdown",
   "id": "78443760",
   "metadata": {},
   "source": [
    "13) If you had a function named bacon() inside a module named spam, how would you call it after importing spam?"
   ]
  },
  {
   "cell_type": "markdown",
   "id": "4c9e422a",
   "metadata": {},
   "source": [
    "Ans: spam.bacon()"
   ]
  },
  {
   "cell_type": "code",
   "execution_count": null,
   "id": "f4cf1a66",
   "metadata": {},
   "outputs": [],
   "source": []
  }
 ],
 "metadata": {
  "kernelspec": {
   "display_name": "Python 3 (ipykernel)",
   "language": "python",
   "name": "python3"
  },
  "language_info": {
   "codemirror_mode": {
    "name": "ipython",
    "version": 3
   },
   "file_extension": ".py",
   "mimetype": "text/x-python",
   "name": "python",
   "nbconvert_exporter": "python",
   "pygments_lexer": "ipython3",
   "version": "3.9.12"
  }
 },
 "nbformat": 4,
 "nbformat_minor": 5
}
