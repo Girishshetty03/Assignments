{
 "cells": [
  {
   "cell_type": "markdown",
   "id": "2da7d5e0",
   "metadata": {},
   "source": [
    "1)To what does a relative path refer?"
   ]
  },
  {
   "cell_type": "markdown",
   "id": "a539263b",
   "metadata": {},
   "source": [
    "Ans : The relative path is the path to some file with respect to your current working directory (PWD)."
   ]
  },
  {
   "cell_type": "markdown",
   "id": "8e84f783",
   "metadata": {},
   "source": [
    "2)What does an absolute path start with your operating system?"
   ]
  },
  {
   "cell_type": "markdown",
   "id": "4789b70d",
   "metadata": {},
   "source": [
    "Ans : Windows based systems absolute path starts with C:"
   ]
  },
  {
   "cell_type": "markdown",
   "id": "35735413",
   "metadata": {},
   "source": [
    "3)what do the functions os.getcwd() and os.chdir() do?"
   ]
  },
  {
   "cell_type": "markdown",
   "id": "94862576",
   "metadata": {},
   "source": [
    "Ans : os.getcwd() method tells us the location of current working directory (CWD). Whereas os.chdir() method in Python used to change the current working directory to specified path."
   ]
  },
  {
   "cell_type": "markdown",
   "id": "7401457c",
   "metadata": {},
   "source": [
    "4)What are the . and .. folders?"
   ]
  },
  {
   "cell_type": "markdown",
   "id": "e3f5d067",
   "metadata": {},
   "source": [
    "Ans : . Represents the Current Directory Whereas .. Represents the Parent Directory of the Current Directory"
   ]
  },
  {
   "cell_type": "markdown",
   "id": "e88d9ee7",
   "metadata": {},
   "source": [
    "5)In C:\\bacon\\eggs\\spam.txt, which part is the dir name, and which part is the base name?"
   ]
  },
  {
   "cell_type": "markdown",
   "id": "ad9e7f45",
   "metadata": {},
   "source": [
    "Ans : For C:\\bacon\\eggs\\spam.txt     \n",
    "The dir name is C:\\\\bacon\\\\eggs\n",
    "The Base name is spam.txt"
   ]
  },
  {
   "cell_type": "markdown",
   "id": "05ae1c80",
   "metadata": {},
   "source": [
    "6)What are the three “mode” arguments that can be passed to the open() function?"
   ]
  },
  {
   "cell_type": "markdown",
   "id": "01ad738a",
   "metadata": {},
   "source": [
    "Ans : Read only, Write only, Read and Write only.\n",
    "    A file can be Accessed in python using open() function. open function takes two arguments filename and mode of operation (optional). if mode is not provided the default mode of opening is read mode\n",
    "So, the syntax being: open(filename, mode)"
   ]
  },
  {
   "cell_type": "markdown",
   "id": "5057adc1",
   "metadata": {},
   "source": [
    "7)What happens if an existing file is opened in write mode?"
   ]
  },
  {
   "cell_type": "markdown",
   "id": "2092745f",
   "metadata": {},
   "source": [
    "Ans: Using this mode will overwrite any existing content in a file. If the given file does not exist, a new one will be created."
   ]
  },
  {
   "cell_type": "markdown",
   "id": "6157b204",
   "metadata": {},
   "source": [
    "8)How do you tell the difference between read() and readlines()?"
   ]
  },
  {
   "cell_type": "markdown",
   "id": "8014d160",
   "metadata": {},
   "source": [
    "Ans : *The read() would treat each character in the file separately, meaning that the iteration would happen for every character.\n",
    "*The readline() function, on the other hand, only reads a single line of the file. "
   ]
  },
  {
   "cell_type": "markdown",
   "id": "dc77752e",
   "metadata": {},
   "source": [
    "9)What data structure does a shelf value resemble?"
   ]
  },
  {
   "cell_type": "markdown",
   "id": "b25b193f",
   "metadata": {},
   "source": [
    "Ans :  A shelf value resembles a dictionary value; it has key and values"
   ]
  }
 ],
 "metadata": {
  "kernelspec": {
   "display_name": "Python 3 (ipykernel)",
   "language": "python",
   "name": "python3"
  },
  "language_info": {
   "codemirror_mode": {
    "name": "ipython",
    "version": 3
   },
   "file_extension": ".py",
   "mimetype": "text/x-python",
   "name": "python",
   "nbconvert_exporter": "python",
   "pygments_lexer": "ipython3",
   "version": "3.9.12"
  }
 },
 "nbformat": 4,
 "nbformat_minor": 5
}
