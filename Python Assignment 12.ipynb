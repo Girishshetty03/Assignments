{
 "cells": [
  {
   "cell_type": "markdown",
   "id": "e551719b",
   "metadata": {},
   "source": [
    "1)In what modes should the PdfFileReader() and PdfFileWriter() File objects will be opened?"
   ]
  },
  {
   "cell_type": "markdown",
   "id": "27d6cbe4",
   "metadata": {},
   "source": [
    " Ans: For PdfFileReader() file objects should be opened in rb -> read binary mode, Whereas for PdfFileWriter() file objects should be opened in wb -> write binary mode."
   ]
  },
  {
   "cell_type": "markdown",
   "id": "2cb0c6df",
   "metadata": {},
   "source": [
    "2)From a PdfFileReader object, how do you get a Page object for page 5?"
   ]
  },
  {
   "cell_type": "markdown",
   "id": "cd2e1cc2",
   "metadata": {},
   "source": [
    "Ans: PdfFileReader class provides a method called getPage(page_no) to get a page object."
   ]
  },
  {
   "cell_type": "markdown",
   "id": "2cf135b3",
   "metadata": {},
   "source": [
    "3)What PdfFileReader variable stores the number of pages in the PDF document?"
   ]
  },
  {
   "cell_type": "markdown",
   "id": "95d765b7",
   "metadata": {},
   "source": [
    "Ans: getNumPages() method of PdfFileReader class stores the no pages in a PDF document"
   ]
  },
  {
   "cell_type": "markdown",
   "id": "815d4bc3",
   "metadata": {},
   "source": [
    "4)If a PdfFileReader object’s PDF is encrypted with the password swordfish, what must you do before you can obtain Page objects from it?"
   ]
  },
  {
   "cell_type": "markdown",
   "id": "88c11ec5",
   "metadata": {},
   "source": [
    "Ans: If a PdfFileReader object’s PDF is encrypted with the password swordfish and you're not aware of it. first read the Pdf using the PdfFileReader Class. PdfFileReader class provides a attribute called isEncrypted to check whether a pdf is encrypted or not. the method returns true if a pdf is encrypted and vice versa.\n",
    "if pdf is encrypted use the decrypt() method provided by PdfFileReader class first then try to read the contents/pages of the pdf, else PyPDF2 will raise the following error PyPDF2.utils.PdfReadError: file has not been decrypted"
   ]
  },
  {
   "cell_type": "markdown",
   "id": "c1f81731",
   "metadata": {},
   "source": [
    "5)What methods do you use to rotate a page?"
   ]
  },
  {
   "cell_type": "code",
   "execution_count": null,
   "id": "70abc96d",
   "metadata": {},
   "outputs": [],
   "source": [
    "Ans: PyPDF2 Package provides 2 methods to rotate a page:\n",
    "\n",
    "rotateClockWise() -> For Clockwise rotation\n",
    "rotateCounterClockWise() -> For Counter Clockwise rotation"
   ]
  },
  {
   "cell_type": "markdown",
   "id": "cd81cca3",
   "metadata": {},
   "source": [
    "6)What is the difference between a Run object and a Paragraph object?"
   ]
  },
  {
   "cell_type": "markdown",
   "id": "6943af3f",
   "metadata": {},
   "source": [
    "Ans: The structure of a document is represented by three different data types in python-Docx. At the highest level, a Document object represents the entire document. The Document object contains a list of Paragraph objects for the paragraphs in the document. (A new paragraph begins whenever the user presses ENTER or RETURN while typing in a Word document.) Each of these Paragraph objects contains a list of one or more Run objects."
   ]
  },
  {
   "cell_type": "markdown",
   "id": "2e34ec59",
   "metadata": {},
   "source": [
    "7)How do you obtain a list of Paragraph objects for a Document object that’s stored in a variable named doc?"
   ]
  },
  {
   "cell_type": "code",
   "execution_count": null,
   "id": "55b43bf0",
   "metadata": {},
   "outputs": [],
   "source": [
    "Ans: from docx import Document\n",
    "doc = Document(\"sample_file.docx\") \n",
    "print(doc.paragraphs) \n",
    "for paragraph in doc.paragraphs\n",
    "    print(paragraph.text)"
   ]
  },
  {
   "cell_type": "markdown",
   "id": "bae74fa9",
   "metadata": {},
   "source": [
    "8)What type of object has bold, underline, italic, strike, and outline variables?"
   ]
  },
  {
   "cell_type": "markdown",
   "id": "210ced33",
   "metadata": {},
   "source": [
    "Ans: Run object has bold, underline, italic, strike, and outline variables. The text in a Word document is more than just a string. It has font, size, color, and other styling information associated with it."
   ]
  },
  {
   "cell_type": "markdown",
   "id": "daf187e4",
   "metadata": {},
   "source": [
    "9)What is the difference between False, True, and None for the bold variable?v"
   ]
  },
  {
   "cell_type": "code",
   "execution_count": null,
   "id": "cb6ded44",
   "metadata": {},
   "outputs": [],
   "source": [
    "Ans: bold = True  \n",
    "bold = False \n",
    "bold = None"
   ]
  },
  {
   "cell_type": "markdown",
   "id": "61f8101b",
   "metadata": {},
   "source": [
    "10)How do you create a Document object for a new Word document?"
   ]
  },
  {
   "cell_type": "code",
   "execution_count": null,
   "id": "f22b0c3d",
   "metadata": {},
   "outputs": [],
   "source": [
    "from docx import Document\n",
    "document = Document()\n",
    "document.add_paragraph(\"iNeuron Full Stack DataScience Course\")\n",
    "document.save('mydocument.docx')"
   ]
  },
  {
   "cell_type": "markdown",
   "id": "ed8c7376",
   "metadata": {},
   "source": [
    "11)How do you add a paragraph with the text 'Hello, there!' to a Document object stored in a variable named doc?"
   ]
  },
  {
   "cell_type": "code",
   "execution_count": null,
   "id": "caa8ae7f",
   "metadata": {},
   "outputs": [],
   "source": [
    "from docx import Document\n",
    "doc = Document()\n",
    "doc.add_paragraph('Hello, there!')\n",
    "doc.save('hello.docx')"
   ]
  },
  {
   "cell_type": "markdown",
   "id": "ac2f3a28",
   "metadata": {},
   "source": [
    "12)What integers represent the levels of headings available in Word documents?"
   ]
  },
  {
   "cell_type": "markdown",
   "id": "a92ff71f",
   "metadata": {},
   "source": [
    "Ans: The levels for a heading in a word document can be specified by using the level attribute inside the add_heading method. There are a total of 5 levels statring for 0 t0 4. where level 0 makes a headline with the horizontal line below the text, whereas the heading level 1 is the main heading. Similarly, the other headings are sub-heading with their's font-sizes in decreasing order."
   ]
  },
  {
   "cell_type": "markdown",
   "id": "1e483de5",
   "metadata": {},
   "source": []
  }
 ],
 "metadata": {
  "kernelspec": {
   "display_name": "Python 3 (ipykernel)",
   "language": "python",
   "name": "python3"
  },
  "language_info": {
   "codemirror_mode": {
    "name": "ipython",
    "version": 3
   },
   "file_extension": ".py",
   "mimetype": "text/x-python",
   "name": "python",
   "nbconvert_exporter": "python",
   "pygments_lexer": "ipython3",
   "version": "3.9.12"
  },
  "widgets": {
   "application/vnd.jupyter.widget-state+json": {
    "state": {},
    "version_major": 2,
    "version_minor": 0
   }
  }
 },
 "nbformat": 4,
 "nbformat_minor": 5
}
