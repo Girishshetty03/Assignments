{
 "cells": [
  {
   "cell_type": "markdown",
   "id": "be2680b9",
   "metadata": {},
   "source": [
    "1.What does RGBA stand for?\n",
    "\n",
    "Ans: RGBA is a four-channel format containing data for Red, Green, Blue, and an Alpha value. Where Alpha Represents the Opacity\n"
   ]
  },
  {
   "cell_type": "markdown",
   "id": "b09e1f3c",
   "metadata": {},
   "source": [
    "2.From the Pillow module, how do you get the RGBA value of any images?\n",
    "\n",
    "Ans: ImageColor.getcolor() gives rgba value of any image"
   ]
  },
  {
   "cell_type": "markdown",
   "id": "4a89ce19",
   "metadata": {},
   "source": [
    "3.What is a box tuple, and how does it work?\n",
    "\n",
    "Ans: A box tuple is a tuple value of four integers: the left-edge x-coordinate, the top-edge y-coordinate,the width, and the height, respectively."
   ]
  },
  {
   "cell_type": "markdown",
   "id": "f49e4df9",
   "metadata": {},
   "source": [
    "5.What method would you call to get Image object for a 100×100 image, excluding the lower-left quarter of it?"
   ]
  },
  {
   "cell_type": "markdown",
   "id": "2ee3f3b1",
   "metadata": {},
   "source": [
    "from PIL import Image\n",
    "\n",
    "img = Image.open('Pic.jpg')\n",
    "\n",
    "new_img = img.crop((0,50,50,50))"
   ]
  },
  {
   "cell_type": "markdown",
   "id": "571a2cf0",
   "metadata": {},
   "source": [
    "7.What module contains Pillow’s shape-drawing code?\n",
    "\n",
    "Ans: Pillows ImageDraw module contains Shape drawing methods"
   ]
  },
  {
   "cell_type": "markdown",
   "id": "d282e652",
   "metadata": {},
   "source": [
    "8.Image objects do not have drawing methods. What kind of object does? How do you get this kind of object?\n",
    "\n",
    "Ans: ImageDraw objects have shape-drawing methods such as point(), line(), or rectangle().They are returned by passing the Image object to the ImageDraw.Draw() function."
   ]
  },
  {
   "cell_type": "code",
   "execution_count": null,
   "id": "a57cf174",
   "metadata": {},
   "outputs": [],
   "source": []
  }
 ],
 "metadata": {
  "kernelspec": {
   "display_name": "Python 3 (ipykernel)",
   "language": "python",
   "name": "python3"
  },
  "language_info": {
   "codemirror_mode": {
    "name": "ipython",
    "version": 3
   },
   "file_extension": ".py",
   "mimetype": "text/x-python",
   "name": "python",
   "nbconvert_exporter": "python",
   "pygments_lexer": "ipython3",
   "version": "3.9.12"
  }
 },
 "nbformat": 4,
 "nbformat_minor": 5
}
