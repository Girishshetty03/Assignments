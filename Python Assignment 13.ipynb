{
 "cells": [
  {
   "cell_type": "markdown",
   "id": "638b3ac5",
   "metadata": {},
   "source": [
    "1)What advantages do Excel spreadsheets have over CSV spreadsheets?"
   ]
  },
  {
   "cell_type": "markdown",
   "id": "4c78d916",
   "metadata": {},
   "source": [
    "Ans: The Advantages of Excel over CSV are:\n",
    "\n",
    "Excel (XLS and XLSX) file formats are better for storing and analysing complex data.\n",
    "\n",
    "An Excel not only stores data but can also do operations on the data using macros, formulas etc\n",
    "\n",
    "CSV files are plain-text files, Does not contain formatting, formulas, macros, etc. It is also known as flat files"
   ]
  },
  {
   "cell_type": "markdown",
   "id": "39eb033b",
   "metadata": {},
   "source": [
    "2)What do you pass to csv.reader() and csv.writer() to create reader and writer objects?"
   ]
  },
  {
   "cell_type": "markdown",
   "id": "7d6a0bee",
   "metadata": {},
   "source": [
    "Ans:\n",
    "import csv\n",
    "\n",
    "with open('example.csv', 'r') as csvfile:\n",
    "\n",
    "    csvreader = csv.reader(csvfile)\n",
    "    \n",
    "import csv\n",
    "\n",
    "with open('example.csv', 'w') as csvfile:\n",
    "\n",
    "    csvwriter = csv.writer(csvfile)\n",
    "\n"
   ]
  },
  {
   "cell_type": "markdown",
   "id": "01f9e140",
   "metadata": {},
   "source": [
    "3)What modes do File objects for reader and writer objects need to be opened in?"
   ]
  },
  {
   "cell_type": "markdown",
   "id": "f9004828",
   "metadata": {},
   "source": [
    "Ans: For csv.reader(iterable_file_object), the file objects needed to be opened in read mode mode='r' Whereas for csv.writer(iterable_file_object) the file objects needed to be opened in write mode mode='w'"
   ]
  },
  {
   "cell_type": "markdown",
   "id": "c371832f",
   "metadata": {},
   "source": [
    "4)What method takes a list argument and writes it to a CSV file?\n",
    "\n",
    "Ans: csv.writer class provides two methods for writing to CSV. They are writerow() and writerows(). writerow() method writes a single row at a time. Whereas writerows() method is used to write multiple rows at a time."
   ]
  },
  {
   "cell_type": "markdown",
   "id": "1fed9e67",
   "metadata": {},
   "source": [
    "5)What do the keyword arguments delimiter and line terminator do?\n",
    "\n",
    "Ans: Lets take the example of a csv file:\n",
    "First Name, Last Name, Age\n",
    "Mano, Vishnu, 24\n",
    "Vishnu, Vardhan, 21\n",
    "Here ',' is Delimiter. We can use any Character as per our needs if required. Similarly Line Terminator comes at end of line by default it is newline and can be changed accourding to Requirement."
   ]
  },
  {
   "cell_type": "markdown",
   "id": "f24a1c76",
   "metadata": {},
   "source": [
    "7)What function takes a Python data structure and returns a string of JSON data?\n",
    "\n",
    "Ans: dumps() method takes a python data structure and returns a string of JSON data"
   ]
  },
  {
   "cell_type": "code",
   "execution_count": null,
   "id": "d4863b2c",
   "metadata": {},
   "outputs": [],
   "source": []
  }
 ],
 "metadata": {
  "kernelspec": {
   "display_name": "Python 3 (ipykernel)",
   "language": "python",
   "name": "python3"
  },
  "language_info": {
   "codemirror_mode": {
    "name": "ipython",
    "version": 3
   },
   "file_extension": ".py",
   "mimetype": "text/x-python",
   "name": "python",
   "nbconvert_exporter": "python",
   "pygments_lexer": "ipython3",
   "version": "3.9.12"
  }
 },
 "nbformat": 4,
 "nbformat_minor": 5
}
