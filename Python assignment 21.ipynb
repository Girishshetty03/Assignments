{
 "cells": [
  {
   "cell_type": "markdown",
   "id": "c4697828",
   "metadata": {},
   "source": [
    "1.Add the current date to the text file today.txt as a string."
   ]
  },
  {
   "cell_type": "code",
   "execution_count": 1,
   "id": "f65b08bf",
   "metadata": {},
   "outputs": [
    {
     "name": "stdout",
     "output_type": "stream",
     "text": [
      "06-03-2023\n"
     ]
    }
   ],
   "source": [
    "import datetime\n",
    "file = open('today.txt','w')\n",
    "file.write(datetime.datetime.now().strftime(\"%d-%m-%Y\"))\n",
    "file.close()\n",
    "file = open('today.txt','r')\n",
    "print(file.read())\n",
    "file.close()"
   ]
  },
  {
   "cell_type": "markdown",
   "id": "c84ce55d",
   "metadata": {},
   "source": [
    "2.Read the text file today.txt into the string today_string"
   ]
  },
  {
   "cell_type": "code",
   "execution_count": 2,
   "id": "d109028d",
   "metadata": {},
   "outputs": [
    {
     "name": "stdout",
     "output_type": "stream",
     "text": [
      "06-03-2023\n"
     ]
    }
   ],
   "source": [
    "file = open('today.txt','r')\n",
    "today_string = file.read()\n",
    "print(today_string)"
   ]
  },
  {
   "cell_type": "markdown",
   "id": "29b3385b",
   "metadata": {},
   "source": [
    "3.Parse the date from today_string."
   ]
  },
  {
   "cell_type": "code",
   "execution_count": 3,
   "id": "af1653f4",
   "metadata": {},
   "outputs": [
    {
     "name": "stdout",
     "output_type": "stream",
     "text": [
      "2023-03-06 00:00:00\n"
     ]
    }
   ],
   "source": [
    "from datetime import datetime\n",
    "parsed_data = datetime.strptime(today_string, '%d-%m-%Y')\n",
    "print(parsed_data)"
   ]
  },
  {
   "cell_type": "markdown",
   "id": "1db073b0",
   "metadata": {},
   "source": [
    "4.List the files in your current directory"
   ]
  },
  {
   "cell_type": "code",
   "execution_count": null,
   "id": "a34493b7",
   "metadata": {},
   "outputs": [],
   "source": [
    "import os\n",
    "for folders, subfolders, files in os.walk(os.getcwd()):\n",
    "    for file in files:\n",
    "        print(file)"
   ]
  },
  {
   "cell_type": "markdown",
   "id": "40c91542",
   "metadata": {},
   "source": [
    "5.Create a list of all of the files in your parent directory (minimum five files should be available)."
   ]
  },
  {
   "cell_type": "code",
   "execution_count": 1,
   "id": "bfc5c508",
   "metadata": {},
   "outputs": [
    {
     "data": {
      "text/plain": [
       "['-1.14-windows.xml',\n",
       " '.cache',\n",
       " '.conda',\n",
       " '.condarc',\n",
       " '.continuum',\n",
       " '.cufflinks',\n",
       " '.idea',\n",
       " '.idlerc',\n",
       " '.ipynb_checkpoints',\n",
       " '.ipython',\n",
       " '.jupyter',\n",
       " '.matplotlib',\n",
       " '.ms-ad',\n",
       " '.spyder-py3',\n",
       " '.vscode',\n",
       " '.wdm',\n",
       " '3D Objects',\n",
       " 'anaconda3',\n",
       " 'AppData',\n",
       " 'Application Data',\n",
       " 'application_log.txt',\n",
       " 'books.db',\n",
       " 'Contacts',\n",
       " 'Cookies',\n",
       " 'Desktop',\n",
       " 'Documents',\n",
       " 'Downloads',\n",
       " 'Exception handling.ipynb',\n",
       " 'Favorites',\n",
       " 'file.avi',\n",
       " 'file.dmp',\n",
       " 'file.DSP',\n",
       " 'file.err',\n",
       " 'file.esav',\n",
       " 'file.full',\n",
       " 'file.log',\n",
       " 'file.mlv',\n",
       " 'file.mntr',\n",
       " 'file.mode',\n",
       " 'file.rst',\n",
       " 'file.rth',\n",
       " 'file.stat',\n",
       " 'girish shetty',\n",
       " 'IntelGraphicsProfiles',\n",
       " 'iter,map,reduce,filter.ipynb',\n",
       " 'Jedi',\n",
       " 'linear_reg.sav',\n",
       " 'Links',\n",
       " 'Local Settings',\n",
       " 'Machine Learning 1.ipynb',\n",
       " 'Machine learning 2.ipynb',\n",
       " 'MicrosoftEdgeBackups',\n",
       " 'Music',\n",
       " 'My Documents',\n",
       " 'NetHood',\n",
       " 'NTUSER.DAT',\n",
       " 'ntuser.dat.LOG1',\n",
       " 'ntuser.dat.LOG2',\n",
       " 'NTUSER.DAT{53b39e88-18c4-11ea-a811-000d3aa4692b}.TM.blf',\n",
       " 'NTUSER.DAT{53b39e88-18c4-11ea-a811-000d3aa4692b}.TMContainer00000000000000000001.regtrans-ms',\n",
       " 'NTUSER.DAT{53b39e88-18c4-11ea-a811-000d3aa4692b}.TMContainer00000000000000000002.regtrans-ms',\n",
       " 'ntuser.ini',\n",
       " 'numpy.ipynb',\n",
       " 'OneDrive',\n",
       " 'Pandas.ipynb',\n",
       " 'Pandas2.ipynb',\n",
       " 'pandas3.ipynb',\n",
       " 'Pictures',\n",
       " 'Postman',\n",
       " 'PrintHood',\n",
       " 'PycharmProjects',\n",
       " 'Python advanced assignment 1.ipynb',\n",
       " 'Python advanced assignment 2.ipynb',\n",
       " 'Python advanced assignment 3.ipynb',\n",
       " 'Python assignment 1-Copy1.ipynb',\n",
       " 'Python assignment 1.ipynb',\n",
       " 'Python Assignment 10.ipynb',\n",
       " 'Python Assignment 11.ipynb',\n",
       " 'Python Assignment 12.ipynb',\n",
       " 'Python Assignment 13.ipynb',\n",
       " 'Python Assignment 14.ipynb',\n",
       " 'Python Assignment 15.ipynb',\n",
       " 'Python assignment 16.ipynb',\n",
       " 'Python assignment 17.ipynb',\n",
       " 'Python assignment 19.ipynb',\n",
       " 'Python Assignment 2.ipynb',\n",
       " 'Python assignment 20.ipynb',\n",
       " 'Python assignment 21.ipynb',\n",
       " 'Python Assignment 3.ipynb',\n",
       " 'Python assignment 4.ipynb',\n",
       " 'Python Assignment 5.ipynb',\n",
       " 'Python Assignment 6.ipynb',\n",
       " 'Python Assignment 8.ipynb',\n",
       " 'Python Assignment 9.ipynb',\n",
       " 'Python Function.ipynb',\n",
       " 'Python list,tuple.ipynb',\n",
       " 'Python loop.ipynb',\n",
       " 'Python Programming assignment  6.ipynb',\n",
       " 'Python Programming assignment 1.ipynb',\n",
       " 'Python Programming assignment 10.ipynb',\n",
       " 'Python Programming assignment 11.ipynb',\n",
       " 'Python Programming assignment 12.ipynb',\n",
       " 'Python programming assignment 13.ipynb',\n",
       " 'Python Programming assignment 14.ipynb',\n",
       " 'Python Programming assignment 15.ipynb',\n",
       " 'Python Programming assignment 16.ipynb',\n",
       " 'Python Programming assignment 17.ipynb',\n",
       " 'Python Programming assignment 18.ipynb',\n",
       " 'Python Programming assignment 19.ipynb',\n",
       " 'Python Programming assignment 2.ipynb',\n",
       " 'Python Programming assignment 20.ipynb',\n",
       " 'Python Programming assignment 21.ipynb',\n",
       " 'Python Programming assignment 22.ipynb',\n",
       " 'Python Programming assignment 3.ipynb',\n",
       " 'Python Programming assignment 4.ipynb',\n",
       " 'Python Programming assignment 5.ipynb',\n",
       " 'Python Programming assignment 7.ipynb',\n",
       " 'Python Programming assignment 8.ipynb',\n",
       " 'Python Programming assignment 9.ipynb',\n",
       " 'Python Project 1.ipynb',\n",
       " 'Python string.ipynb',\n",
       " 'python Task.ipynb',\n",
       " 'Python..if elif..else..ipynb',\n",
       " 'Python..while loop.ipynb',\n",
       " 'python.ipynb',\n",
       " 'Recent',\n",
       " 'Saved Games',\n",
       " 'seaborn-data',\n",
       " 'Searches',\n",
       " 'SendTo',\n",
       " 'Start Menu',\n",
       " 'Templates',\n",
       " 'test.txt',\n",
       " 'text.html',\n",
       " 'text.txt',\n",
       " 'today.txt',\n",
       " 'Untitled.ipynb',\n",
       " 'untitled.txt',\n",
       " 'Untitled1.ipynb',\n",
       " 'untitled1.txt',\n",
       " 'Untitled2.ipynb',\n",
       " 'Untitled3.ipynb',\n",
       " 'Untitled4.ipynb',\n",
       " 'Untitled5.ipynb',\n",
       " 'Untitled6.ipynb',\n",
       " 'Untitled7.ipynb',\n",
       " 'Untitled8.ipynb',\n",
       " 'Videos']"
      ]
     },
     "execution_count": 1,
     "metadata": {},
     "output_type": "execute_result"
    }
   ],
   "source": [
    "import os \n",
    "os.listdir()"
   ]
  },
  {
   "cell_type": "markdown",
   "id": "6d405bd2",
   "metadata": {},
   "source": [
    "7.Create a date object of your day of birth."
   ]
  },
  {
   "cell_type": "code",
   "execution_count": 2,
   "id": "b89fb6f0",
   "metadata": {},
   "outputs": [
    {
     "name": "stdout",
     "output_type": "stream",
     "text": [
      "1997-04-22 00:00:00 <class 'datetime.datetime'>\n"
     ]
    }
   ],
   "source": [
    "from datetime import datetime\n",
    "my_dob = datetime.strptime('22/04/1997','%d/%m/%Y')\n",
    "print(my_dob, type(my_dob))"
   ]
  },
  {
   "cell_type": "markdown",
   "id": "3c11104e",
   "metadata": {},
   "source": [
    "8.What day of the week was your day of birth?"
   ]
  },
  {
   "cell_type": "code",
   "execution_count": 3,
   "id": "1ed3ccb2",
   "metadata": {},
   "outputs": [
    {
     "data": {
      "text/plain": [
       "'Tuesday'"
      ]
     },
     "execution_count": 3,
     "metadata": {},
     "output_type": "execute_result"
    }
   ],
   "source": [
    "from datetime import datetime\n",
    "my_dob = datetime(1997,4,22)\n",
    "my_dob.strftime(\"%A\")"
   ]
  },
  {
   "cell_type": "markdown",
   "id": "e8827d4b",
   "metadata": {},
   "source": [
    "9.When will you be (or when were you) 10,000 days old?"
   ]
  },
  {
   "cell_type": "code",
   "execution_count": 4,
   "id": "ec470af4",
   "metadata": {},
   "outputs": [
    {
     "data": {
      "text/plain": [
       "datetime.datetime(1969, 12, 5, 0, 0)"
      ]
     },
     "execution_count": 4,
     "metadata": {},
     "output_type": "execute_result"
    }
   ],
   "source": [
    "from datetime import datetime, timedelta\n",
    "my_dob = datetime.strptime(\"22/04/1997\",'%d/%m/%Y')\n",
    "future_date = my_dob-timedelta(10000)\n",
    "future_date"
   ]
  },
  {
   "cell_type": "code",
   "execution_count": null,
   "id": "c7d0df43",
   "metadata": {},
   "outputs": [],
   "source": []
  }
 ],
 "metadata": {
  "kernelspec": {
   "display_name": "Python 3 (ipykernel)",
   "language": "python",
   "name": "python3"
  },
  "language_info": {
   "codemirror_mode": {
    "name": "ipython",
    "version": 3
   },
   "file_extension": ".py",
   "mimetype": "text/x-python",
   "name": "python",
   "nbconvert_exporter": "python",
   "pygments_lexer": "ipython3",
   "version": "3.9.12"
  }
 },
 "nbformat": 4,
 "nbformat_minor": 5
}
