{
 "cells": [
  {
   "cell_type": "markdown",
   "id": "de63692c",
   "metadata": {},
   "source": [
    "1)What are escape characters, and how do you use them?"
   ]
  },
  {
   "cell_type": "markdown",
   "id": "b433ab89",
   "metadata": {},
   "source": [
    "Ans: Escape characters represent characters in string values that would otherwise be difficult or impossible to type into code.\n",
    "             \\t, \\n"
   ]
  },
  {
   "cell_type": "markdown",
   "id": "9d7c6e84",
   "metadata": {},
   "source": [
    "2)What do the escape characters n and t stand for?"
   ]
  },
  {
   "cell_type": "markdown",
   "id": "ba59f8a3",
   "metadata": {},
   "source": [
    "Ans:\\n is a newline, \\t is a tab"
   ]
  },
  {
   "cell_type": "markdown",
   "id": "6a003adf",
   "metadata": {},
   "source": [
    "3)What is the way to include backslash characters in a string?"
   ]
  },
  {
   "cell_type": "markdown",
   "id": "9e352843",
   "metadata": {},
   "source": [
    "Ans:The \\\\ escape character will represent the backslash character in a string."
   ]
  },
  {
   "cell_type": "markdown",
   "id": "c429f5bb",
   "metadata": {},
   "source": [
    "4)The string \"Howl's Moving Castle\" is a correct value. Why isn't the single quote character in the word Howl's not escaped a problem?"
   ]
  },
  {
   "cell_type": "markdown",
   "id": "a2d39d50",
   "metadata": {},
   "source": [
    "Ans:The string \"Howl's Moving Castle\" escaped the problem because it is wrapped inside double quotes.Howl\\'s Moving Castle' -> 'Howl's Moving Castle'"
   ]
  },
  {
   "cell_type": "markdown",
   "id": "d308ff5d",
   "metadata": {},
   "source": [
    "5)How do you write a string of newlines if you don't want to use the n character?"
   ]
  },
  {
   "cell_type": "code",
   "execution_count": 1,
   "id": "114af647",
   "metadata": {},
   "outputs": [
    {
     "name": "stdout",
     "output_type": "stream",
     "text": [
      "Python \n",
      "programming\n"
     ]
    }
   ],
   "source": [
    "a = '''Python \n",
    "programming'''\n",
    "print(a)"
   ]
  },
  {
   "cell_type": "markdown",
   "id": "8469b662",
   "metadata": {},
   "source": [
    "6)What are the values of the given expressions?\n",
    "'Hello, world!'[1]\n",
    "'Hello, world!'[0:5]\n",
    "'Hello, world!'[:5]\n",
    "'Hello, world!'[3:]\n"
   ]
  },
  {
   "cell_type": "code",
   "execution_count": 9,
   "id": "87f0e8e2",
   "metadata": {},
   "outputs": [
    {
     "name": "stdout",
     "output_type": "stream",
     "text": [
      "e\n",
      "Hello\n",
      "Hello\n",
      "lo, world!\n"
     ]
    }
   ],
   "source": [
    "a='Hello, world!'\n",
    "print(a[1])\n",
    "print(a[0:5])\n",
    "print(a[:5])\n",
    "print(a[3:])"
   ]
  },
  {
   "cell_type": "markdown",
   "id": "ef2a6b7e",
   "metadata": {},
   "source": [
    "7)What are the values of the following expressions?\n",
    "'Hello'.upper()\n",
    "'Hello'.upper().isupper()\n",
    "'Hello'.upper().lower()\n"
   ]
  },
  {
   "cell_type": "code",
   "execution_count": 12,
   "id": "cbc2b661",
   "metadata": {},
   "outputs": [
    {
     "name": "stdout",
     "output_type": "stream",
     "text": [
      "HELLO\n",
      "True\n",
      "hello\n"
     ]
    }
   ],
   "source": [
    "a='Hello'\n",
    "print(a.upper())\n",
    "print(a.upper().isupper())\n",
    "print(a.upper().lower())"
   ]
  },
  {
   "cell_type": "markdown",
   "id": "0b704c2d",
   "metadata": {},
   "source": [
    "8)What are the values of the following expressions?\n",
    "'Remember, remember, the fifth of July.'.split()\n",
    "'-'.join('There can only one.'.split())\n"
   ]
  },
  {
   "cell_type": "code",
   "execution_count": 18,
   "id": "cc934928",
   "metadata": {},
   "outputs": [
    {
     "data": {
      "text/plain": [
       "(['Remember,', 'remember,', 'the', 'fifith', 'of', 'July.'],\n",
       " 'There-can-only-one')"
      ]
     },
     "execution_count": 18,
     "metadata": {},
     "output_type": "execute_result"
    }
   ],
   "source": [
    "'Remember, remember, the fifith of July.'.split(),'-'.join('There can only one'.split())"
   ]
  },
  {
   "cell_type": "markdown",
   "id": "08111749",
   "metadata": {},
   "source": [
    "9)What are the methods for right-justifying, left-justifying, and centering a string?"
   ]
  },
  {
   "cell_type": "markdown",
   "id": "835f7ab9",
   "metadata": {},
   "source": [
    "Ans:The rjust(),ljust(),center() string methods, respectively"
   ]
  },
  {
   "cell_type": "markdown",
   "id": "35f8f434",
   "metadata": {},
   "source": [
    "10)What is the best way to remove whitespace characters from the start or end?"
   ]
  },
  {
   "cell_type": "markdown",
   "id": "293818bd",
   "metadata": {},
   "source": [
    "Ans:he lstrip() and rstrip() methods remove whitesapce characters from the left and right ends of a string respectively"
   ]
  },
  {
   "cell_type": "code",
   "execution_count": null,
   "id": "31306719",
   "metadata": {},
   "outputs": [],
   "source": []
  }
 ],
 "metadata": {
  "kernelspec": {
   "display_name": "Python 3 (ipykernel)",
   "language": "python",
   "name": "python3"
  },
  "language_info": {
   "codemirror_mode": {
    "name": "ipython",
    "version": 3
   },
   "file_extension": ".py",
   "mimetype": "text/x-python",
   "name": "python",
   "nbconvert_exporter": "python",
   "pygments_lexer": "ipython3",
   "version": "3.9.12"
  }
 },
 "nbformat": 4,
 "nbformat_minor": 5
}
